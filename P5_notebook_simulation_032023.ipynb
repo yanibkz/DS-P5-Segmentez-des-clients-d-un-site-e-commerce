{
 "cells": [
  {
   "cell_type": "code",
   "execution_count": 34,
   "id": "f93b0c15",
   "metadata": {},
   "outputs": [],
   "source": [
    "import numpy as np\n",
    "import pandas as pd\n",
    "import matplotlib.pyplot as plt\n",
    "import seaborn as sns\n",
    "from sklearn.preprocessing import StandardScaler\n",
    "from sklearn.cluster import KMeans\n",
    "from datetime import datetime\n",
    "from sklearn.metrics import adjusted_rand_score"
   ]
  },
  {
   "cell_type": "code",
   "execution_count": 10,
   "id": "6a875ef3",
   "metadata": {},
   "outputs": [],
   "source": [
    "data_maintenance= pd.read_csv(\"data_maintenance.csv\")"
   ]
  },
  {
   "cell_type": "code",
   "execution_count": 11,
   "id": "316e7c0f",
   "metadata": {},
   "outputs": [],
   "source": [
    "data_maintenance = data_maintenance.drop('Unnamed: 0', axis=1)"
   ]
  },
  {
   "cell_type": "code",
   "execution_count": 18,
   "id": "c4602e29",
   "metadata": {},
   "outputs": [
    {
     "data": {
      "text/html": [
       "<div>\n",
       "<style scoped>\n",
       "    .dataframe tbody tr th:only-of-type {\n",
       "        vertical-align: middle;\n",
       "    }\n",
       "\n",
       "    .dataframe tbody tr th {\n",
       "        vertical-align: top;\n",
       "    }\n",
       "\n",
       "    .dataframe thead th {\n",
       "        text-align: right;\n",
       "    }\n",
       "</style>\n",
       "<table border=\"1\" class=\"dataframe\">\n",
       "  <thead>\n",
       "    <tr style=\"text-align: right;\">\n",
       "      <th></th>\n",
       "      <th>customer_unique_id</th>\n",
       "      <th>recence</th>\n",
       "      <th>fréquence</th>\n",
       "      <th>payment_value</th>\n",
       "      <th>review_score</th>\n",
       "      <th>order_purchase_timestamp</th>\n",
       "    </tr>\n",
       "  </thead>\n",
       "  <tbody>\n",
       "    <tr>\n",
       "      <th>0</th>\n",
       "      <td>0000366f3b9a7992bf8c76cfdf3221e2</td>\n",
       "      <td>115</td>\n",
       "      <td>1</td>\n",
       "      <td>141.90</td>\n",
       "      <td>5.0</td>\n",
       "      <td>2018-05-10 10:56:27</td>\n",
       "    </tr>\n",
       "    <tr>\n",
       "      <th>1</th>\n",
       "      <td>0000b849f77a49e4a4ce2b2a4ca5be3f</td>\n",
       "      <td>118</td>\n",
       "      <td>1</td>\n",
       "      <td>27.19</td>\n",
       "      <td>4.0</td>\n",
       "      <td>2018-05-07 11:11:27</td>\n",
       "    </tr>\n",
       "    <tr>\n",
       "      <th>2</th>\n",
       "      <td>0000f46a3911fa3c0805444483337064</td>\n",
       "      <td>541</td>\n",
       "      <td>1</td>\n",
       "      <td>86.22</td>\n",
       "      <td>3.0</td>\n",
       "      <td>2017-03-10 21:05:03</td>\n",
       "    </tr>\n",
       "    <tr>\n",
       "      <th>3</th>\n",
       "      <td>0000f6ccb0745a6a4b88665a16c9f078</td>\n",
       "      <td>325</td>\n",
       "      <td>1</td>\n",
       "      <td>43.62</td>\n",
       "      <td>4.0</td>\n",
       "      <td>2017-10-12 20:29:41</td>\n",
       "    </tr>\n",
       "    <tr>\n",
       "      <th>4</th>\n",
       "      <td>0004aac84e0df4da2b147fca70cf8255</td>\n",
       "      <td>292</td>\n",
       "      <td>1</td>\n",
       "      <td>196.89</td>\n",
       "      <td>5.0</td>\n",
       "      <td>2017-11-14 19:45:42</td>\n",
       "    </tr>\n",
       "    <tr>\n",
       "      <th>...</th>\n",
       "      <td>...</td>\n",
       "      <td>...</td>\n",
       "      <td>...</td>\n",
       "      <td>...</td>\n",
       "      <td>...</td>\n",
       "      <td>...</td>\n",
       "    </tr>\n",
       "    <tr>\n",
       "      <th>94452</th>\n",
       "      <td>fffcf5a5ff07b0908bd4e2dbc735a684</td>\n",
       "      <td>451</td>\n",
       "      <td>1</td>\n",
       "      <td>2067.42</td>\n",
       "      <td>5.0</td>\n",
       "      <td>2017-06-08 21:00:36</td>\n",
       "    </tr>\n",
       "    <tr>\n",
       "      <th>94453</th>\n",
       "      <td>fffea47cd6d3cc0a88bd621562a9d061</td>\n",
       "      <td>266</td>\n",
       "      <td>1</td>\n",
       "      <td>84.58</td>\n",
       "      <td>4.0</td>\n",
       "      <td>2017-12-10 20:07:56</td>\n",
       "    </tr>\n",
       "    <tr>\n",
       "      <th>94454</th>\n",
       "      <td>ffff371b4d645b6ecea244b27531430a</td>\n",
       "      <td>572</td>\n",
       "      <td>1</td>\n",
       "      <td>112.46</td>\n",
       "      <td>5.0</td>\n",
       "      <td>2017-02-07 15:49:16</td>\n",
       "    </tr>\n",
       "    <tr>\n",
       "      <th>94455</th>\n",
       "      <td>ffff5962728ec6157033ef9805bacc48</td>\n",
       "      <td>123</td>\n",
       "      <td>1</td>\n",
       "      <td>133.69</td>\n",
       "      <td>5.0</td>\n",
       "      <td>2018-05-02 15:17:41</td>\n",
       "    </tr>\n",
       "    <tr>\n",
       "      <th>94456</th>\n",
       "      <td>ffffd2657e2aad2907e67c3e9daecbeb</td>\n",
       "      <td>488</td>\n",
       "      <td>1</td>\n",
       "      <td>71.56</td>\n",
       "      <td>5.0</td>\n",
       "      <td>2017-05-02 20:18:45</td>\n",
       "    </tr>\n",
       "  </tbody>\n",
       "</table>\n",
       "<p>94457 rows × 6 columns</p>\n",
       "</div>"
      ],
      "text/plain": [
       "                     customer_unique_id  recence  fréquence  payment_value  \\\n",
       "0      0000366f3b9a7992bf8c76cfdf3221e2      115          1         141.90   \n",
       "1      0000b849f77a49e4a4ce2b2a4ca5be3f      118          1          27.19   \n",
       "2      0000f46a3911fa3c0805444483337064      541          1          86.22   \n",
       "3      0000f6ccb0745a6a4b88665a16c9f078      325          1          43.62   \n",
       "4      0004aac84e0df4da2b147fca70cf8255      292          1         196.89   \n",
       "...                                 ...      ...        ...            ...   \n",
       "94452  fffcf5a5ff07b0908bd4e2dbc735a684      451          1        2067.42   \n",
       "94453  fffea47cd6d3cc0a88bd621562a9d061      266          1          84.58   \n",
       "94454  ffff371b4d645b6ecea244b27531430a      572          1         112.46   \n",
       "94455  ffff5962728ec6157033ef9805bacc48      123          1         133.69   \n",
       "94456  ffffd2657e2aad2907e67c3e9daecbeb      488          1          71.56   \n",
       "\n",
       "       review_score order_purchase_timestamp  \n",
       "0               5.0      2018-05-10 10:56:27  \n",
       "1               4.0      2018-05-07 11:11:27  \n",
       "2               3.0      2017-03-10 21:05:03  \n",
       "3               4.0      2017-10-12 20:29:41  \n",
       "4               5.0      2017-11-14 19:45:42  \n",
       "...             ...                      ...  \n",
       "94452           5.0      2017-06-08 21:00:36  \n",
       "94453           4.0      2017-12-10 20:07:56  \n",
       "94454           5.0      2017-02-07 15:49:16  \n",
       "94455           5.0      2018-05-02 15:17:41  \n",
       "94456           5.0      2017-05-02 20:18:45  \n",
       "\n",
       "[94457 rows x 6 columns]"
      ]
     },
     "execution_count": 18,
     "metadata": {},
     "output_type": "execute_result"
    }
   ],
   "source": [
    "data_maintenance"
   ]
  },
  {
   "cell_type": "code",
   "execution_count": 13,
   "id": "def55831",
   "metadata": {},
   "outputs": [
    {
     "name": "stdout",
     "output_type": "stream",
     "text": [
      "Date du dernier achat 2018-09-03 09:06:57\n",
      "Date du premier achat 2016-09-04 21:15:19\n"
     ]
    }
   ],
   "source": [
    "print(\"Date du dernier achat\", data_maintenance.order_purchase_timestamp.max())\n",
    "print(\"Date du premier achat\", data_maintenance.order_purchase_timestamp.min())"
   ]
  },
  {
   "cell_type": "code",
   "execution_count": 20,
   "id": "47f49bb9",
   "metadata": {},
   "outputs": [],
   "source": [
    "data_maintenance[\"order_purchase_timestamp\"] = pd.to_datetime(data_maintenance[\"order_purchase_timestamp\"])\n"
   ]
  },
  {
   "cell_type": "code",
   "execution_count": 21,
   "id": "645bb3c3",
   "metadata": {},
   "outputs": [],
   "source": [
    "clients_date10 = data_maintenance[(data_maintenance[\"order_purchase_timestamp\"] < datetime(2017, 12 , 31))]"
   ]
  },
  {
   "cell_type": "code",
   "execution_count": 41,
   "id": "1cc51942",
   "metadata": {},
   "outputs": [
    {
     "data": {
      "image/png": "[encoded data removed]",
      "text/plain": [
       "<Figure size 1200x800 with 1 Axes>"
      ]
     },
     "metadata": {},
     "output_type": "display_data"
    }
   ],
   "source": [
    "fig=plt.figure(figsize=(12, 8))\n",
    "plt.xticks(rotation=45)\n",
    "data_maintenance[\"order_purchase_timestamp\"].hist(bins=20, cumulative= True, density= False)\n",
    "plt.show()"
   ]
  },
  {
   "cell_type": "code",
   "execution_count": 24,
   "id": "bae06571",
   "metadata": {},
   "outputs": [
    {
     "data": {
      "text/html": [
       "<div>\n",
       "<style scoped>\n",
       "    .dataframe tbody tr th:only-of-type {\n",
       "        vertical-align: middle;\n",
       "    }\n",
       "\n",
       "    .dataframe tbody tr th {\n",
       "        vertical-align: top;\n",
       "    }\n",
       "\n",
       "    .dataframe thead th {\n",
       "        text-align: right;\n",
       "    }\n",
       "</style>\n",
       "<table border=\"1\" class=\"dataframe\">\n",
       "  <thead>\n",
       "    <tr style=\"text-align: right;\">\n",
       "      <th></th>\n",
       "      <th>customer_unique_id</th>\n",
       "      <th>recence</th>\n",
       "      <th>fréquence</th>\n",
       "      <th>payment_value</th>\n",
       "      <th>review_score</th>\n",
       "      <th>order_purchase_timestamp</th>\n",
       "    </tr>\n",
       "  </thead>\n",
       "  <tbody>\n",
       "    <tr>\n",
       "      <th>67933</th>\n",
       "      <td>b7d76e111c89f7ebf14761390f0f7d17</td>\n",
       "      <td>728</td>\n",
       "      <td>1</td>\n",
       "      <td>136.23</td>\n",
       "      <td>1.0</td>\n",
       "      <td>2016-09-04 21:15:19</td>\n",
       "    </tr>\n",
       "    <tr>\n",
       "      <th>26784</th>\n",
       "      <td>4854e9b3feff728c13ee5fc7d1547e92</td>\n",
       "      <td>728</td>\n",
       "      <td>1</td>\n",
       "      <td>75.06</td>\n",
       "      <td>1.0</td>\n",
       "      <td>2016-09-05 00:15:34</td>\n",
       "    </tr>\n",
       "    <tr>\n",
       "      <th>5425</th>\n",
       "      <td>0eb1ee9dba87f5b36b4613a65074337c</td>\n",
       "      <td>700</td>\n",
       "      <td>1</td>\n",
       "      <td>109.34</td>\n",
       "      <td>1.0</td>\n",
       "      <td>2016-10-02 22:07:52</td>\n",
       "    </tr>\n",
       "    <tr>\n",
       "      <th>17582</th>\n",
       "      <td>2f64e403852e6893ae37485d5fcacdaf</td>\n",
       "      <td>699</td>\n",
       "      <td>1</td>\n",
       "      <td>39.09</td>\n",
       "      <td>4.0</td>\n",
       "      <td>2016-10-03 16:56:50</td>\n",
       "    </tr>\n",
       "    <tr>\n",
       "      <th>68279</th>\n",
       "      <td>b8b8726af116a5cfb35b0315ecef9172</td>\n",
       "      <td>699</td>\n",
       "      <td>1</td>\n",
       "      <td>35.61</td>\n",
       "      <td>1.0</td>\n",
       "      <td>2016-10-03 21:01:41</td>\n",
       "    </tr>\n",
       "    <tr>\n",
       "      <th>...</th>\n",
       "      <td>...</td>\n",
       "      <td>...</td>\n",
       "      <td>...</td>\n",
       "      <td>...</td>\n",
       "      <td>...</td>\n",
       "      <td>...</td>\n",
       "    </tr>\n",
       "    <tr>\n",
       "      <th>92914</th>\n",
       "      <td>fbd10bdfa725fd272755f9dd98752105</td>\n",
       "      <td>246</td>\n",
       "      <td>1</td>\n",
       "      <td>138.26</td>\n",
       "      <td>4.0</td>\n",
       "      <td>2017-12-30 21:44:05</td>\n",
       "    </tr>\n",
       "    <tr>\n",
       "      <th>66081</th>\n",
       "      <td>b2b779eb0dedff7f9eef0770287a9979</td>\n",
       "      <td>246</td>\n",
       "      <td>1</td>\n",
       "      <td>51.75</td>\n",
       "      <td>1.0</td>\n",
       "      <td>2017-12-30 22:07:13</td>\n",
       "    </tr>\n",
       "    <tr>\n",
       "      <th>72334</th>\n",
       "      <td>c3bbb44403eaca0b1a298510aa9cdae6</td>\n",
       "      <td>246</td>\n",
       "      <td>1</td>\n",
       "      <td>55.24</td>\n",
       "      <td>5.0</td>\n",
       "      <td>2017-12-30 22:29:45</td>\n",
       "    </tr>\n",
       "    <tr>\n",
       "      <th>17554</th>\n",
       "      <td>2f53681bf01c5cff02bada5809fe302e</td>\n",
       "      <td>246</td>\n",
       "      <td>1</td>\n",
       "      <td>102.87</td>\n",
       "      <td>5.0</td>\n",
       "      <td>2017-12-30 22:51:13</td>\n",
       "    </tr>\n",
       "    <tr>\n",
       "      <th>91490</th>\n",
       "      <td>f7d86e04c9c498efc7b73a6a1bd44629</td>\n",
       "      <td>246</td>\n",
       "      <td>1</td>\n",
       "      <td>36.77</td>\n",
       "      <td>5.0</td>\n",
       "      <td>2017-12-30 23:53:28</td>\n",
       "    </tr>\n",
       "  </tbody>\n",
       "</table>\n",
       "<p>42322 rows × 6 columns</p>\n",
       "</div>"
      ],
      "text/plain": [
       "                     customer_unique_id  recence  fréquence  payment_value  \\\n",
       "67933  b7d76e111c89f7ebf14761390f0f7d17      728          1         136.23   \n",
       "26784  4854e9b3feff728c13ee5fc7d1547e92      728          1          75.06   \n",
       "5425   0eb1ee9dba87f5b36b4613a65074337c      700          1         109.34   \n",
       "17582  2f64e403852e6893ae37485d5fcacdaf      699          1          39.09   \n",
       "68279  b8b8726af116a5cfb35b0315ecef9172      699          1          35.61   \n",
       "...                                 ...      ...        ...            ...   \n",
       "92914  fbd10bdfa725fd272755f9dd98752105      246          1         138.26   \n",
       "66081  b2b779eb0dedff7f9eef0770287a9979      246          1          51.75   \n",
       "72334  c3bbb44403eaca0b1a298510aa9cdae6      246          1          55.24   \n",
       "17554  2f53681bf01c5cff02bada5809fe302e      246          1         102.87   \n",
       "91490  f7d86e04c9c498efc7b73a6a1bd44629      246          1          36.77   \n",
       "\n",
       "       review_score order_purchase_timestamp  \n",
       "67933           1.0      2016-09-04 21:15:19  \n",
       "26784           1.0      2016-09-05 00:15:34  \n",
       "5425            1.0      2016-10-02 22:07:52  \n",
       "17582           4.0      2016-10-03 16:56:50  \n",
       "68279           1.0      2016-10-03 21:01:41  \n",
       "...             ...                      ...  \n",
       "92914           4.0      2017-12-30 21:44:05  \n",
       "66081           1.0      2017-12-30 22:07:13  \n",
       "72334           5.0      2017-12-30 22:29:45  \n",
       "17554           5.0      2017-12-30 22:51:13  \n",
       "91490           5.0      2017-12-30 23:53:28  \n",
       "\n",
       "[42322 rows x 6 columns]"
      ]
     },
     "execution_count": 24,
     "metadata": {},
     "output_type": "execute_result"
    }
   ],
   "source": [
    "clients_date_drop = clients_date10.dropna()\n",
    "clients_date_drop.sort_values(\"order_purchase_timestamp\")"
   ]
  },
  {
   "cell_type": "code",
   "execution_count": 25,
   "id": "0362b80c",
   "metadata": {},
   "outputs": [],
   "source": [
    "b0 = clients_date_drop[['fréquence','recence','payment_value','review_score']]"
   ]
  },
  {
   "cell_type": "code",
   "execution_count": 26,
   "id": "fcb4e875",
   "metadata": {},
   "outputs": [],
   "source": [
    "std_0 = StandardScaler().fit(b0)\n",
    "date0_std = std_0.transform(b0)"
   ]
  },
  {
   "cell_type": "code",
   "execution_count": 29,
   "id": "2e6ab005",
   "metadata": {},
   "outputs": [
    {
     "name": "stderr",
     "output_type": "stream",
     "text": [
      "C:\\Users\\boukh\\anaconda3\\lib\\site-packages\\sklearn\\cluster\\_kmeans.py:870: FutureWarning: The default value of `n_init` will change from 10 to 'auto' in 1.4. Set the value of `n_init` explicitly to suppress the warning\n",
      "  warnings.warn(\n"
     ]
    }
   ],
   "source": [
    "model_0 = KMeans(n_clusters=5).fit(date0_std)"
   ]
  },
  {
   "cell_type": "code",
   "execution_count": 40,
   "id": "9be51226",
   "metadata": {},
   "outputs": [
    {
     "name": "stderr",
     "output_type": "stream",
     "text": [
      "C:\\Users\\boukh\\anaconda3\\lib\\site-packages\\sklearn\\cluster\\_kmeans.py:870: FutureWarning: The default value of `n_init` will change from 10 to 'auto' in 1.4. Set the value of `n_init` explicitly to suppress the warning\n",
      "  warnings.warn(\n",
      "C:\\Users\\boukh\\anaconda3\\lib\\site-packages\\sklearn\\cluster\\_kmeans.py:870: FutureWarning: The default value of `n_init` will change from 10 to 'auto' in 1.4. Set the value of `n_init` explicitly to suppress the warning\n",
      "  warnings.warn(\n",
      "C:\\Users\\boukh\\anaconda3\\lib\\site-packages\\sklearn\\cluster\\_kmeans.py:870: FutureWarning: The default value of `n_init` will change from 10 to 'auto' in 1.4. Set the value of `n_init` explicitly to suppress the warning\n",
      "  warnings.warn(\n",
      "C:\\Users\\boukh\\anaconda3\\lib\\site-packages\\sklearn\\cluster\\_kmeans.py:870: FutureWarning: The default value of `n_init` will change from 10 to 'auto' in 1.4. Set the value of `n_init` explicitly to suppress the warning\n",
      "  warnings.warn(\n",
      "C:\\Users\\boukh\\anaconda3\\lib\\site-packages\\sklearn\\cluster\\_kmeans.py:870: FutureWarning: The default value of `n_init` will change from 10 to 'auto' in 1.4. Set the value of `n_init` explicitly to suppress the warning\n",
      "  warnings.warn(\n",
      "C:\\Users\\boukh\\anaconda3\\lib\\site-packages\\sklearn\\cluster\\_kmeans.py:870: FutureWarning: The default value of `n_init` will change from 10 to 'auto' in 1.4. Set the value of `n_init` explicitly to suppress the warning\n",
      "  warnings.warn(\n",
      "C:\\Users\\boukh\\anaconda3\\lib\\site-packages\\sklearn\\cluster\\_kmeans.py:870: FutureWarning: The default value of `n_init` will change from 10 to 'auto' in 1.4. Set the value of `n_init` explicitly to suppress the warning\n",
      "  warnings.warn(\n",
      "C:\\Users\\boukh\\anaconda3\\lib\\site-packages\\sklearn\\cluster\\_kmeans.py:870: FutureWarning: The default value of `n_init` will change from 10 to 'auto' in 1.4. Set the value of `n_init` explicitly to suppress the warning\n",
      "  warnings.warn(\n"
     ]
    },
    {
     "data": {
      "image/png": "[encoded data removed]",
      "text/plain": [
       "<Figure size 1000x800 with 1 Axes>"
      ]
     },
     "metadata": {},
     "output_type": "display_data"
    }
   ],
   "source": [
    "def process_monthly_data_cumulative(df, model_0, std_0, n_clusters=5):\n",
    "    X = df[['fréquence', 'recence', 'payment_value', 'review_score']]\n",
    "    X_std_0 = std_0.transform(X)\n",
    "    labels_0 = model_0.predict(X_std_0)\n",
    "    \n",
    "    std = StandardScaler().fit(X)\n",
    "    X_std = std.transform(X)\n",
    "    model = KMeans(n_clusters=n_clusters).fit(X_std)\n",
    "    labels = model.predict(X_std)\n",
    "    \n",
    "    return adjusted_rand_score(labels_0, labels)\n",
    "\n",
    "dates = [\n",
    "    datetime(2018, 1, 1),\n",
    "    datetime(2018, 2, 1),\n",
    "    datetime(2018, 3, 1),\n",
    "    datetime(2018, 4, 1),\n",
    "    datetime(2018, 5, 1),\n",
    "    datetime(2018, 6, 1),\n",
    "    datetime(2018, 7, 1),\n",
    "    datetime(2018, 8, 1)\n",
    "]\n",
    "\n",
    "ari_results = {}\n",
    "\n",
    "for date in dates:\n",
    "    date_range = data_maintenance[data_maintenance[\"order_purchase_timestamp\"] < date]\n",
    "    date_range_drop = date_range.dropna()\n",
    "    \n",
    "    ari = process_monthly_data_cumulative(date_range_drop, model_0, std_0)\n",
    "    ari_results[date.strftime(\"%Y-%m\")] = ari\n",
    "\n",
    "ari_df = pd.DataFrame(list(ari_results.items()), columns=['Month', 'ARI'])\n",
    "ax = ari_df.plot(x='Month', y='ARI', kind='line', title=\"ARI evolution over months\", ylabel=\"ARI\",figsize=(10, 8))\n",
    "ax.grid(True)\n",
    "ax.axhline(y=0.8, color='r', linestyle='--')\n",
    "plt.show()"
   ]
  },
  {
   "cell_type": "code",
   "execution_count": 42,
   "id": "fb33ba27",
   "metadata": {},
   "outputs": [
    {
     "data": {
      "text/plain": [
       "{'2018-01': 0.9923231295461841,\n",
       " '2018-02': 0.8373117673283236,\n",
       " '2018-03': 0.6820215410040537,\n",
       " '2018-04': 0.6230848791908785,\n",
       " '2018-05': 0.6277021130554848,\n",
       " '2018-06': 0.587937217057098,\n",
       " '2018-07': 0.5583239595357334,\n",
       " '2018-08': 0.5326392544896735}"
      ]
     },
     "execution_count": 42,
     "metadata": {},
     "output_type": "execute_result"
    }
   ],
   "source": [
    "ari_results"
   ]
  },
  {
   "cell_type": "code",
   "execution_count": null,
   "id": "d141a393",
   "metadata": {},
   "outputs": [],
   "source": []
  },
  {
   "cell_type": "markdown",
   "id": "f6379061",
   "metadata": {},
   "source": [
    "# Conclusion"
   ]
  },
  {
   "cell_type": "markdown",
   "id": "d5239d2b",
   "metadata": {},
   "source": [
    "- Création de 5 clusters à l'aide de K-means.\n",
    "- Actualisation de la segmentation à faire tous les 40 jours.\n"
   ]
  },
  {
   "attachments": {},
   "cell_type": "markdown",
   "id": "5bfbfcc6",
   "metadata": {},
   "source": [
    "Solutions marketing possible : \n",
    "- Bon de réduction pour les clients fidèles en fonction des produits qu'ils ont déjà achetés. \n",
    "- Programme de fidélité pour les nouveaux clients, visant à les inciter à commander davantage. \n",
    "- Livraison gratuite à partir d'un certain montant ou d'un certain nombre de produits, dans le but d'augmenter le prix ou le nombre de produits moyen dans le panier.\n"
   ]
  },
  {
   "cell_type": "code",
   "execution_count": null,
   "id": "2e93356a",
   "metadata": {},
   "outputs": [],
   "source": []
  }
 ],
 "metadata": {
  "kernelspec": {
   "display_name": "Python 3 (ipykernel)",
   "language": "python",
   "name": "python3"
  },
  "language_info": {
   "codemirror_mode": {
    "name": "ipython",
    "version": 3
   },
   "file_extension": ".py",
   "mimetype": "text/x-python",
   "name": "python",
   "nbconvert_exporter": "python",
   "pygments_lexer": "ipython3",
   "version": "3.9.13"
  }
 },
 "nbformat": 4,
 "nbformat_minor": 5
}
